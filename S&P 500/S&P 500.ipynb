{
 "cells": [
  {
   "cell_type": "markdown",
   "metadata": {},
   "source": [
    "# S&P 500 Dataset\n",
    "\n",
    "Using this notebook a user can obtain a dataset for daily stock price changes for the current S&P 500 companies."
   ]
  },
  {
   "cell_type": "code",
   "execution_count": null,
   "metadata": {},
   "outputs": [],
   "source": [
    "import pandas as pd # library for data analysis\n",
    "import requests # library to handle requests\n",
    "from bs4 import BeautifulSoup # library to parse HTML documents\n",
    "import yfinance as yf\n",
    "import os, contextlib"
   ]
  },
  {
   "cell_type": "markdown",
   "metadata": {},
   "source": [
    "### Date Range Input\n",
    "\n",
    "Enter the desired date range for the dataset.\n",
    "\n",
    "Valid periods: 1d,5d,1mo,3mo,6mo,1y,2y,5y,10y,ytd,max"
   ]
  },
  {
   "cell_type": "code",
   "execution_count": null,
   "metadata": {},
   "outputs": [],
   "source": [
    "period = '5y' "
   ]
  },
  {
   "cell_type": "markdown",
   "metadata": {},
   "source": [
    "### Wikipedia \n",
    "\n",
    "Getting the list of 500 companies from Wikipedia."
   ]
  },
  {
   "cell_type": "code",
   "execution_count": null,
   "metadata": {},
   "outputs": [],
   "source": [
    "# get list of 500 companies from wikipedia\n",
    "wikiurl=\"https://en.wikipedia.org/wiki/List_of_S%26P_500_companies\"\n",
    "table_class=\"wikitable sortable jquery-tablesorter\"\n",
    "response=requests.get(wikiurl)"
   ]
  },
  {
   "cell_type": "code",
   "execution_count": null,
   "metadata": {},
   "outputs": [],
   "source": [
    "# parse data from the html into a beautifulsoup object\n",
    "soup = BeautifulSoup(response.text, 'html.parser')\n",
    "stocks = soup.find('table',{'class':\"wikitable\"})"
   ]
  },
  {
   "cell_type": "code",
   "execution_count": null,
   "metadata": {},
   "outputs": [],
   "source": [
    "df = pd.read_html(str(stocks))\n",
    "\n",
    "# convert list to dataframe\n",
    "df = pd.DataFrame(df[0])\n",
    "\n",
    "# cols to keep\n",
    "cols = ['Symbol', 'Security', 'GICS Sector', 'GICS Sub-Industry', 'Date first added']\n",
    "\n",
    "sp500 = df.loc[:,cols].sort_values(by = 'Symbol')\n",
    "\n",
    "sp500.to_csv('sp500_metadata.csv', index = False)"
   ]
  },
  {
   "cell_type": "markdown",
   "metadata": {},
   "source": [
    "### Yahoo Finance -- Stock Prices\n",
    "Using the stocks from the wikipedia code to pull in daily prices from Yahoo Finance."
   ]
  },
  {
   "cell_type": "code",
   "execution_count": null,
   "metadata": {},
   "outputs": [],
   "source": [
    "# saving list from the S&P metadata\n",
    "symbols = list(sp500['Symbol'])\n",
    "\n",
    "date_range = period\n",
    "    \n",
    "stock_list = []\n",
    "\n",
    "for ticker in symbols:\n",
    "    df = pd.DataFrame(yf.download(ticker, period = period,auto_adjust = True))\n",
    "    df['Ticker'] = '{}'.format(ticker)\n",
    "    stock_list.append(df)\n",
    "\n",
    "dataframe = pd.concat(stock_list, axis=0).reset_index()"
   ]
  },
  {
   "cell_type": "code",
   "execution_count": null,
   "metadata": {},
   "outputs": [],
   "source": [
    "# formatting the order of dataframe\n",
    "order = ['Date', 'Ticker', 'Open', 'High', 'Low', 'Close', 'Volume']\n",
    "\n",
    "dataframe = dataframe.loc[:,order]"
   ]
  },
  {
   "cell_type": "code",
   "execution_count": null,
   "metadata": {},
   "outputs": [],
   "source": [
    "dataframe.to_csv('sp500_prices_{}.csv'.format(period), index = False)"
   ]
  },
  {
   "cell_type": "code",
   "execution_count": null,
   "metadata": {},
   "outputs": [],
   "source": []
  }
 ],
 "metadata": {
  "kernelspec": {
   "display_name": "Python 3",
   "language": "python",
   "name": "python3"
  },
  "language_info": {
   "codemirror_mode": {
    "name": "ipython",
    "version": 3
   },
   "file_extension": ".py",
   "mimetype": "text/x-python",
   "name": "python",
   "nbconvert_exporter": "python",
   "pygments_lexer": "ipython3",
   "version": "3.7.4"
  },
  "toc": {
   "base_numbering": 1,
   "nav_menu": {},
   "number_sections": false,
   "sideBar": true,
   "skip_h1_title": false,
   "title_cell": "Table of Contents",
   "title_sidebar": "Contents",
   "toc_cell": false,
   "toc_position": {},
   "toc_section_display": true,
   "toc_window_display": false
  }
 },
 "nbformat": 4,
 "nbformat_minor": 2
}
